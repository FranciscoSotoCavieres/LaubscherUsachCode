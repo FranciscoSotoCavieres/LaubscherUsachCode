{
 "cells": [
  {
   "attachments": {},
   "cell_type": "markdown",
   "metadata": {},
   "source": [
    "Import Libraries"
   ]
  },
  {
   "cell_type": "code",
   "execution_count": null,
   "metadata": {
    "pycharm": {
     "name": "#%%\n"
    }
   },
   "outputs": [],
   "source": [
    "from Models.BlockModelDilution import BlockModelDilution\n",
    "from Models.utils import best_height_of_draw, sequence_footprint\n",
    "import Models.Factory as ft\n",
    "import Models.visualization as vs\n",
    "from Scripts.ValorizationScript import valorization\n",
    "from Engine.CavingProductionPlanExtractionSpeedItem import CavingProductionPlanExtractionSpeedItem\n",
    "from Engine.CavingProductionPlanTargetItem import CavingProductionPlanTargetItem\n",
    "from Engine.CavingProductionPlanTarget import CavingProductionPlanTarget\n",
    "from Engine.ProductionPlanEngine import ProductionPlanEngine\n",
    "from Scripts.GualcamayoOptimizer import build_inclined_footprints, compute_tonnage_grade, draw_grades, compute_best_height_level, compute_best_height, generate_plan, segment_squares, stats_footprints\n",
    "import numpy as np \n",
    "from os import path\n",
    "    \n",
    "\n",
    "\n"
   ]
  },
  {
   "cell_type": "code",
   "execution_count": 2,
   "metadata": {
    "pycharm": {
     "name": "#%%\n"
    }
   },
   "outputs": [],
   "source": [
    "folder = r\"C:\\Users\\franc\\Desktop\\Usach Proyecto Test\"\n",
    "mb_path_csv = path.join(folder,\"G8.csv\")\n",
    "\n",
    "\n",
    "#mb_path_csv = r'C:\\Users\\franc\\bmining\\BM22-AUS33-IUG GUALCAMAYO - Documentos\\03 Equipo de Trabajo\\09 Francisco Soto\\md_gual5x5x5_nov22.csv'\n",
    "#mb_path_numpy = r'C:\\Users\\franc\\bmining\\BM22-AUS33-IUG GUALCAMAYO - Documentos\\03 Equipo de Trabajo\\09 Francisco Soto\\Análisis Caving\\md_gual5x5x5_nov22.npy'\n",
    "#mb_diluted_folder = r'C:\\Users\\franc\\bmining\\BM22-AUS33-IUG GUALCAMAYO - Documentos\\03 Equipo de Trabajo\\09 Francisco Soto\\Análisis Caving\\Dilution'\n"
   ]
  },
  {
   "cell_type": "code",
   "execution_count": null,
   "metadata": {},
   "outputs": [],
   "source": []
  },
  {
   "cell_type": "code",
   "execution_count": null,
   "metadata": {},
   "outputs": [],
   "source": []
  },
  {
   "cell_type": "code",
   "execution_count": null,
   "metadata": {},
   "outputs": [],
   "source": []
  },
  {
   "cell_type": "code",
   "execution_count": null,
   "metadata": {},
   "outputs": [],
   "source": []
  },
  {
   "cell_type": "code",
   "execution_count": null,
   "metadata": {},
   "outputs": [],
   "source": []
  }
 ],
 "metadata": {
  "kernelspec": {
   "display_name": "Python 3 (ipykernel)",
   "language": "python",
   "name": "python3"
  },
  "language_info": {
   "codemirror_mode": {
    "name": "ipython",
    "version": 3
   },
   "file_extension": ".py",
   "mimetype": "text/x-python",
   "name": "python",
   "nbconvert_exporter": "python",
   "pygments_lexer": "ipython3",
   "version": "3.9.10"
  }
 },
 "nbformat": 4,
 "nbformat_minor": 4
}
