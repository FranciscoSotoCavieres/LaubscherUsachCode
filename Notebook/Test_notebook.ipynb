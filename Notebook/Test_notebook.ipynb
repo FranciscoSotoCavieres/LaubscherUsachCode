{
 "cells": [
  {
   "attachments": {},
   "cell_type": "markdown",
   "metadata": {},
   "source": [
    "Import Libraries And Constants"
   ]
  },
  {
   "cell_type": "code",
   "execution_count": 10,
   "metadata": {
    "pycharm": {
     "name": "#%%\n"
    }
   },
   "outputs": [],
   "source": [
    "folder = r\"C:\\Users\\franc\\Desktop\\Usach Proyecto Test\"\n",
    "import sys\n",
    "sys.path.append(\"..\")\n",
    "from Models.BlockModelDilution import BlockModelDilution\n",
    "\n",
    "from Models.utils import best_height_of_draw, sequence_footprint\n",
    "import Models.Factory as ft\n",
    "import Models.visualization as vs\n",
    "from Scripts.ValorizationScript import valorization\n",
    "import Models.visualization as visualization\n",
    "from Engine.CavingProductionPlanExtractionSpeedItem import CavingProductionPlanExtractionSpeedItem\n",
    "from Engine.CavingProductionPlanTargetItem import CavingProductionPlanTargetItem\n",
    "from Engine.CavingProductionPlanTarget import CavingProductionPlanTarget\n",
    "from Engine.ProductionPlanEngine import ProductionPlanEngine\n",
    "from Scripts.Optimizer import build_inclined_footprints, compute_tonnage_grade, draw_grades, compute_best_height_level, compute_best_height, generate_plan, segment_squares, stats_footprints\n",
    "from Scripts import ValorizationScript\n",
    "from Models.utils import best_height_of_draw,get_average,get_summation,get_average_from_footprint,get_summation_from_footprint\n",
    "from Models.excel_utils import export_matrix_to_excel\n",
    "\n",
    "\n",
    "import numpy as np \n",
    "\n",
    "from os import path\n",
    "    \n",
    "\n",
    "\n"
   ]
  },
  {
   "cell_type": "code",
   "execution_count": 12,
   "metadata": {},
   "outputs": [],
   "source": [
    "# -- Constants --\n",
    "folder = r\"C:\\Users\\franc\\Desktop\\Usach Proyecto Test\"\n",
    "level = 7\n",
    "csv_name = path.join(folder,\"G8.csv\")\n",
    "npy_name = path.join(folder,\"G8.npy\")\n",
    "cut_name = \"Cut\"\n",
    "density_name = \"Density\"\n",
    "recovery_name = \"Recu\"\n",
    "diluted_bm_path = path.join(folder,f\"Diluted BM {level}.npy\")\n",
    "footprint_path = path.join(folder,f\"Footprint {level}.xlsx\")\n",
    "sequence_path = path.join(folder,f\"Sequence {level}.xlsx\")\n",
    "plan_configuration_path = path.join(folder,f\"Configuration Plan.xlsx\")\n",
    "value_accumulated_set = 'accumulated_value'\n",
    "value_set = 'value'\n",
    "ped = 40 # Percentage\n",
    "\n",
    "\n"
   ]
  },
  {
   "cell_type": "code",
   "execution_count": 3,
   "metadata": {
    "pycharm": {
     "name": "#%%\n"
    }
   },
   "outputs": [
    {
     "data": {
      "application/vnd.jupyter.widget-view+json": {
       "model_id": "f3d77c5be4304b62b0c72fc7233da5d5",
       "version_major": 2,
       "version_minor": 0
      },
      "text/plain": [
       "ViewInteractiveWidget(height=768, layout=Layout(height='auto', width='100%'), width=1024)"
      ]
     },
     "metadata": {},
     "output_type": "display_data"
    }
   ],
   "source": [
    "import pyvista as pv\n",
    "from pyvista import examples\n",
    "from pyvista import demos\n",
    "\n",
    "mb_path_csv = path.join(folder,csv_name)\n",
    "mb_path_np = path.join(folder,npy_name)\n",
    "\n",
    "block_model_insitu = ft.block_model_from_csv_file(mb_path_csv,'X','Y','Z')\n",
    "visualization.contours(block_model_insitu,cut_name,[0.8])\n",
    "recu = block_model_insitu.get_data_set(recovery_name)\n",
    "cut = block_model_insitu.get_data_set(cut_name)\n",
    "\n",
    "# Clean invalid values\n",
    "recu[recu<0] = 60\n",
    "block_model_insitu.update_dataset(recovery_name,recu)\n",
    "block_model_insitu.save(mb_path_np)"
   ]
  },
  {
   "cell_type": "markdown",
   "metadata": {},
   "source": [
    "Dilución del Modelo de bloques"
   ]
  },
  {
   "cell_type": "code",
   "execution_count": 4,
   "metadata": {},
   "outputs": [],
   "source": [
    " # Crear una calculadora de dilución\n",
    " \n",
    "\n",
    "block_model_insitu = ft.block_model_from_npy_file(path.join(folder,npy_name))\n",
    "level_block_model = ft.block_model_from_level(block_model_insitu, level)  # Get the 7th level of the block model\n",
    "\n",
    "\n",
    "block_dilution_engine = BlockModelDilution(ped, level_block_model.structure)\n",
    "block_dilution_engine.compute_dilution_coefficients()\n",
    "\n",
    "#  Dilute all the data sets\n",
    "block_model_diluted = level_block_model.clone()\n",
    "for data_set_name in level_block_model.get_dataset_names():\n",
    "    data_set = level_block_model.get_data_set(data_set_name)\n",
    "    diluted_data_set = block_dilution_engine.dilute_dataset(data_set)\n",
    "    block_model_diluted.update_dataset(data_set_name, diluted_data_set)\n",
    "    \n",
    "\n",
    "ValorizationScript.valorization(block_model_diluted)\n",
    "block_model_diluted.save(diluted_bm_path)\n"
   ]
  },
  {
   "cell_type": "code",
   "execution_count": 5,
   "metadata": {},
   "outputs": [],
   "source": [
    "block_model_diluted = ft.block_model_from_npy_file(diluted_bm_path)\n",
    "footprint = best_height_of_draw(block_model_diluted,value_accumulated_set)\n",
    "#footprint.export_to_excel(footprint_path)"
   ]
  },
  {
   "cell_type": "code",
   "execution_count": 8,
   "metadata": {},
   "outputs": [],
   "source": [
    "block_model_diluted = ft.block_model_from_npy_file(diluted_bm_path)\n",
    "\n",
    "footprint = ft.footprint_from_excel(footprint_path,block_model_diluted)\n",
    "sequence = sequence_footprint(footprint,30)\n",
    "sequence.export_to_excel(sequence_path)\n",
    "#visualization.draw_footprint(footprint,block_model_diluted,footprint.compute_slope_percentage())\n",
    "\n",
    "average = get_average_from_footprint(footprint,block_model_diluted,cut_name,density_name)\n",
    "summation = get_summation_from_footprint(footprint,block_model_diluted,cut_name)\n",
    "export_matrix_to_excel(average,path.join(folder,\"Average.xlsx\"))\n",
    "export_matrix_to_excel(summation,path.join(folder,\"Summation.xlsx\"))\n",
    "\n",
    "\n",
    "\n",
    "\n",
    "\n",
    "\n"
   ]
  },
  {
   "cell_type": "code",
   "execution_count": 16,
   "metadata": {},
   "outputs": [],
   "source": [
    "# Target\n",
    "first_item_target = CavingProductionPlanTargetItem(1, 1e6, 10, 360)\n",
    "target_items: list[CavingProductionPlanTargetItem] = [first_item_target]\n",
    "\n",
    "# Speed\n",
    "first_item_speed = CavingProductionPlanExtractionSpeedItem(0, 30, 0.15)\n",
    "speed_items: list[CavingProductionPlanExtractionSpeedItem] = [first_item_speed]\n",
    "\n",
    "# Caving plan\n",
    "\n",
    "# configuration = ft.CavingProductionPlanTarget(\"configuration\",density_name,target_items,speed_items,[cut_name],[value_set])\n",
    "# configuration.export_to_excel(plan_configuration_path)\n",
    "configuration = ft.caving_configuration_from_excel(plan_configuration_path)\n",
    "\n",
    "productionPlanEngine = ProductionPlanEngine(block_model_diluted, footprint,sequence, configuration)\n",
    "result = productionPlanEngine.process()\n",
    "path_to_excel_caving_plan_result =path.join(folder,\"Plan.xlsx\")\n",
    "result.export_excel(path_to_excel_caving_plan_result)"
   ]
  },
  {
   "cell_type": "code",
   "execution_count": null,
   "metadata": {},
   "outputs": [],
   "source": []
  }
 ],
 "metadata": {
  "kernelspec": {
   "display_name": "Python 3 (ipykernel)",
   "language": "python",
   "name": "python3"
  },
  "language_info": {
   "codemirror_mode": {
    "name": "ipython",
    "version": 3
   },
   "file_extension": ".py",
   "mimetype": "text/x-python",
   "name": "python",
   "nbconvert_exporter": "python",
   "pygments_lexer": "ipython3",
   "version": "3.10.11"
  }
 },
 "nbformat": 4,
 "nbformat_minor": 4
}
